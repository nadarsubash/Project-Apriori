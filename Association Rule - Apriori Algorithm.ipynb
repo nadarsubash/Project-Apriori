{
 "cells": [
  {
   "cell_type": "markdown",
   "metadata": {},
   "source": [
    "### Apriori is a popular algorithm for extracting **frequent itemsets** with applications in **association rule** learning. \n",
    "An **itemset** is considered as \"frequent\" if it meets a user-specified support threshold. For instance, if the support threshold is set to 0.5 (50%), a frequent itemset is defined as a set of items that occur together in at least 50% of all transactions in the database."
   ]
  },
  {
   "cell_type": "markdown",
   "metadata": {},
   "source": [
    "Apriori Algo explained [here](http://rasbt.github.io/mlxtend/user_guide/frequent_patterns/apriori/) (code below)"
   ]
  },
  {
   "cell_type": "code",
   "execution_count": null,
   "metadata": {},
   "outputs": [],
   "source": [
    "pip install mlxtend\n",
    "pip install apriori"
   ]
  },
  {
   "cell_type": "code",
   "execution_count": 9,
   "metadata": {},
   "outputs": [
    {
     "data": {
      "text/html": [
       "<div>\n",
       "<style scoped>\n",
       "    .dataframe tbody tr th:only-of-type {\n",
       "        vertical-align: middle;\n",
       "    }\n",
       "\n",
       "    .dataframe tbody tr th {\n",
       "        vertical-align: top;\n",
       "    }\n",
       "\n",
       "    .dataframe thead th {\n",
       "        text-align: right;\n",
       "    }\n",
       "</style>\n",
       "<table border=\"1\" class=\"dataframe\">\n",
       "  <thead>\n",
       "    <tr style=\"text-align: right;\">\n",
       "      <th></th>\n",
       "      <th>Apple</th>\n",
       "      <th>Corn</th>\n",
       "      <th>Dill</th>\n",
       "      <th>Eggs</th>\n",
       "      <th>Ice cream</th>\n",
       "      <th>Kidney Beans</th>\n",
       "      <th>Milk</th>\n",
       "      <th>Nutmeg</th>\n",
       "      <th>Onion</th>\n",
       "      <th>Unicorn</th>\n",
       "      <th>Yogurt</th>\n",
       "    </tr>\n",
       "  </thead>\n",
       "  <tbody>\n",
       "    <tr>\n",
       "      <th>0</th>\n",
       "      <td>False</td>\n",
       "      <td>False</td>\n",
       "      <td>False</td>\n",
       "      <td>True</td>\n",
       "      <td>False</td>\n",
       "      <td>True</td>\n",
       "      <td>True</td>\n",
       "      <td>True</td>\n",
       "      <td>True</td>\n",
       "      <td>False</td>\n",
       "      <td>True</td>\n",
       "    </tr>\n",
       "    <tr>\n",
       "      <th>1</th>\n",
       "      <td>False</td>\n",
       "      <td>False</td>\n",
       "      <td>True</td>\n",
       "      <td>True</td>\n",
       "      <td>False</td>\n",
       "      <td>True</td>\n",
       "      <td>False</td>\n",
       "      <td>True</td>\n",
       "      <td>True</td>\n",
       "      <td>False</td>\n",
       "      <td>True</td>\n",
       "    </tr>\n",
       "    <tr>\n",
       "      <th>2</th>\n",
       "      <td>True</td>\n",
       "      <td>False</td>\n",
       "      <td>False</td>\n",
       "      <td>True</td>\n",
       "      <td>False</td>\n",
       "      <td>True</td>\n",
       "      <td>True</td>\n",
       "      <td>False</td>\n",
       "      <td>False</td>\n",
       "      <td>False</td>\n",
       "      <td>False</td>\n",
       "    </tr>\n",
       "    <tr>\n",
       "      <th>3</th>\n",
       "      <td>False</td>\n",
       "      <td>True</td>\n",
       "      <td>False</td>\n",
       "      <td>False</td>\n",
       "      <td>False</td>\n",
       "      <td>True</td>\n",
       "      <td>True</td>\n",
       "      <td>False</td>\n",
       "      <td>False</td>\n",
       "      <td>True</td>\n",
       "      <td>True</td>\n",
       "    </tr>\n",
       "    <tr>\n",
       "      <th>4</th>\n",
       "      <td>False</td>\n",
       "      <td>True</td>\n",
       "      <td>False</td>\n",
       "      <td>True</td>\n",
       "      <td>True</td>\n",
       "      <td>True</td>\n",
       "      <td>False</td>\n",
       "      <td>False</td>\n",
       "      <td>True</td>\n",
       "      <td>False</td>\n",
       "      <td>False</td>\n",
       "    </tr>\n",
       "  </tbody>\n",
       "</table>\n",
       "</div>"
      ],
      "text/plain": [
       "   Apple   Corn   Dill   Eggs  Ice cream  Kidney Beans   Milk  Nutmeg  Onion  \\\n",
       "0  False  False  False   True      False          True   True    True   True   \n",
       "1  False  False   True   True      False          True  False    True   True   \n",
       "2   True  False  False   True      False          True   True   False  False   \n",
       "3  False   True  False  False      False          True   True   False  False   \n",
       "4  False   True  False   True       True          True  False   False   True   \n",
       "\n",
       "   Unicorn  Yogurt  \n",
       "0    False    True  \n",
       "1    False    True  \n",
       "2    False   False  \n",
       "3     True    True  \n",
       "4    False   False  "
      ]
     },
     "execution_count": 9,
     "metadata": {},
     "output_type": "execute_result"
    }
   ],
   "source": [
    "dataset = [['Milk', 'Onion', 'Nutmeg', 'Kidney Beans', 'Eggs', 'Yogurt'],\n",
    "           ['Dill', 'Onion', 'Nutmeg', 'Kidney Beans', 'Eggs', 'Yogurt'],\n",
    "           ['Milk', 'Apple', 'Kidney Beans', 'Eggs'],\n",
    "           ['Milk', 'Unicorn', 'Corn', 'Kidney Beans', 'Yogurt'],\n",
    "           ['Corn', 'Onion', 'Onion', 'Kidney Beans', 'Ice cream', 'Eggs']]\n",
    "\n",
    "import pandas as pd\n",
    "from mlxtend.preprocessing import TransactionEncoder\n",
    "\n",
    "te = TransactionEncoder()\n",
    "te_ary = te.fit(dataset).transform(dataset)\n",
    "df = pd.DataFrame(te_ary, columns=te.columns_)\n",
    "df"
   ]
  },
  {
   "cell_type": "code",
   "execution_count": 12,
   "metadata": {},
   "outputs": [
    {
     "data": {
      "text/html": [
       "<div>\n",
       "<style scoped>\n",
       "    .dataframe tbody tr th:only-of-type {\n",
       "        vertical-align: middle;\n",
       "    }\n",
       "\n",
       "    .dataframe tbody tr th {\n",
       "        vertical-align: top;\n",
       "    }\n",
       "\n",
       "    .dataframe thead th {\n",
       "        text-align: right;\n",
       "    }\n",
       "</style>\n",
       "<table border=\"1\" class=\"dataframe\">\n",
       "  <thead>\n",
       "    <tr style=\"text-align: right;\">\n",
       "      <th></th>\n",
       "      <th>support</th>\n",
       "      <th>itemsets</th>\n",
       "    </tr>\n",
       "  </thead>\n",
       "  <tbody>\n",
       "    <tr>\n",
       "      <th>0</th>\n",
       "      <td>0.8</td>\n",
       "      <td>(Eggs)</td>\n",
       "    </tr>\n",
       "    <tr>\n",
       "      <th>1</th>\n",
       "      <td>1.0</td>\n",
       "      <td>(Kidney Beans)</td>\n",
       "    </tr>\n",
       "    <tr>\n",
       "      <th>2</th>\n",
       "      <td>0.6</td>\n",
       "      <td>(Milk)</td>\n",
       "    </tr>\n",
       "    <tr>\n",
       "      <th>3</th>\n",
       "      <td>0.6</td>\n",
       "      <td>(Onion)</td>\n",
       "    </tr>\n",
       "    <tr>\n",
       "      <th>4</th>\n",
       "      <td>0.6</td>\n",
       "      <td>(Yogurt)</td>\n",
       "    </tr>\n",
       "    <tr>\n",
       "      <th>5</th>\n",
       "      <td>0.8</td>\n",
       "      <td>(Eggs, Kidney Beans)</td>\n",
       "    </tr>\n",
       "    <tr>\n",
       "      <th>6</th>\n",
       "      <td>0.6</td>\n",
       "      <td>(Eggs, Onion)</td>\n",
       "    </tr>\n",
       "    <tr>\n",
       "      <th>7</th>\n",
       "      <td>0.6</td>\n",
       "      <td>(Kidney Beans, Milk)</td>\n",
       "    </tr>\n",
       "    <tr>\n",
       "      <th>8</th>\n",
       "      <td>0.6</td>\n",
       "      <td>(Kidney Beans, Onion)</td>\n",
       "    </tr>\n",
       "    <tr>\n",
       "      <th>9</th>\n",
       "      <td>0.6</td>\n",
       "      <td>(Kidney Beans, Yogurt)</td>\n",
       "    </tr>\n",
       "    <tr>\n",
       "      <th>10</th>\n",
       "      <td>0.6</td>\n",
       "      <td>(Eggs, Kidney Beans, Onion)</td>\n",
       "    </tr>\n",
       "  </tbody>\n",
       "</table>\n",
       "</div>"
      ],
      "text/plain": [
       "    support                     itemsets\n",
       "0       0.8                       (Eggs)\n",
       "1       1.0               (Kidney Beans)\n",
       "2       0.6                       (Milk)\n",
       "3       0.6                      (Onion)\n",
       "4       0.6                     (Yogurt)\n",
       "5       0.8         (Eggs, Kidney Beans)\n",
       "6       0.6                (Eggs, Onion)\n",
       "7       0.6         (Kidney Beans, Milk)\n",
       "8       0.6        (Kidney Beans, Onion)\n",
       "9       0.6       (Kidney Beans, Yogurt)\n",
       "10      0.6  (Eggs, Kidney Beans, Onion)"
      ]
     },
     "execution_count": 12,
     "metadata": {},
     "output_type": "execute_result"
    }
   ],
   "source": [
    "from mlxtend.frequent_patterns import apriori\n",
    "apriori(df, min_support=0.6, use_colnames=True)"
   ]
  },
  {
   "cell_type": "markdown",
   "metadata": {},
   "source": [
    "---"
   ]
  },
  {
   "cell_type": "markdown",
   "metadata": {},
   "source": [
    "### Another sample Association Rule Mining code using [Apriori Algorithm in Python](https://stackabuse.com/association-rule-mining-via-apriori-algorithm-in-python/)"
   ]
  },
  {
   "cell_type": "markdown",
   "metadata": {},
   "source": [
    "---"
   ]
  },
  {
   "cell_type": "markdown",
   "metadata": {},
   "source": [
    "---"
   ]
  },
  {
   "cell_type": "markdown",
   "metadata": {},
   "source": [
    "### Now let's apply this algo on Fabby data"
   ]
  },
  {
   "cell_type": "code",
   "execution_count": 2,
   "metadata": {},
   "outputs": [],
   "source": [
    "import pandas as pd\n",
    "from mlxtend.preprocessing import TransactionEncoder"
   ]
  },
  {
   "cell_type": "code",
   "execution_count": 4,
   "metadata": {},
   "outputs": [],
   "source": [
    "te = TransactionEncoder()\n",
    "\n",
    "# File created by combining transaction summary,transaction details and products \n",
    "dir_path = \"//Users/subashnadar/Google Drive/Fabby/\"\n",
    "fulldata=pd.read_csv(dir_path+'AprioriData.csv')"
   ]
  },
  {
   "cell_type": "code",
   "execution_count": 5,
   "metadata": {},
   "outputs": [
    {
     "name": "stdout",
     "output_type": "stream",
     "text": [
      "37                                          Melkesjokolade\n",
      "149                                         Melkesjokolade\n",
      "232                          Melkesjokolade,Melkesjokolade\n",
      "556                                         Melkesjokolade\n",
      "683                    Melkesjokolade,Havre Fras,Dove Soap\n",
      "715                               Melkesjokolade,Tine Milk\n",
      "783                                         Melkesjokolade\n",
      "1050               Melkesjokolade,Trixie Wicker Cat Basket\n",
      "1195       Melkesjokolade,Melkesjokolade,Crest,Harringtons\n",
      "1261     Melkesjokolade,Tine Milk,Uriage,Dove Soap,Dove...\n",
      "1422                                        Melkesjokolade\n",
      "1505     Melkesjokolade,Tine Milk,Tine Milk,Tine Milk,C...\n",
      "1544                           Melkesjokolade,Sine Moistur\n",
      "1546                                 Melkesjokolade,Uriage\n",
      "1563     Melkesjokolade,Fiske Boller,Tine Milk,Crest,Ha...\n",
      "1698                    Melkesjokolade,Tine Milk,Dove Soap\n",
      "1702         Melkesjokolade,Melkesjokolade,Crest,Coca Cola\n",
      "1708     Melkesjokolade,Corn Flakes,Tine Milk,Uriage,Tr...\n",
      "1729                             Melkesjokolade,Havre Fras\n",
      "1778                           Melkesjokolade,Sine Moistur\n",
      "1899                                        Melkesjokolade\n",
      "1976                  Melkesjokolade,Corn Flakes,Tine Milk\n",
      "2033                           Melkesjokolade,Fiske Boller\n",
      "2132                            Melkesjokolade,Harringtons\n",
      "2192                            Melkesjokolade,Harringtons\n",
      "2225                              Melkesjokolade,Tine Milk\n",
      "2265                  Melkesjokolade,Tine Milk,Harringtons\n",
      "2269     Melkesjokolade,Melkesjokolade,Corn Flakes,Fisk...\n",
      "2270     Melkesjokolade,Melkesjokolade,Corn Flakes,Fisk...\n",
      "2287                  Melkesjokolade,Corn Flakes,Tine Milk\n",
      "                               ...                        \n",
      "15953    Melkesjokolade,Havre Fras,Trixie Wicker Cat Ba...\n",
      "15977                                       Melkesjokolade\n",
      "16129    Melkesjokolade,Corn ahoy,Tine Milk,Trixie Wick...\n",
      "16182                             Melkesjokolade,Tine Milk\n",
      "16271                          Melkesjokolade,Fiske Boller\n",
      "16362              Melkesjokolade,Melkesjokolade,Tine Milk\n",
      "16399    Melkesjokolade,Corn ahoy,Havre Fras,Tine Milk,...\n",
      "16457                        Melkesjokolade,Melkesjokolade\n",
      "16508                                 Melkesjokolade,Crest\n",
      "16551                        Melkesjokolade,Melkesjokolade\n",
      "16654                                       Melkesjokolade\n",
      "16687                           Melkesjokolade,Corn Flakes\n",
      "16977      Melkesjokolade,Corn ahoy,Havre Fras,Corn Flakes\n",
      "17005                 Melkesjokolade,Crest,Crest,Coca Cola\n",
      "17055                                       Melkesjokolade\n",
      "17179              Melkesjokolade,Trixie Wicker Cat Basket\n",
      "17185    Melkesjokolade,Fiske Boller,Fiske Boller,Sine ...\n",
      "17265    Melkesjokolade,Melkesjokolade,Tine Milk,Harrin...\n",
      "17266    Melkesjokolade,Melkesjokolade,Tine Milk,Harrin...\n",
      "17318    Melkesjokolade,Corn ahoy,Crest,Harringtons,Tri...\n",
      "17400                          Melkesjokolade,Fiske Boller\n",
      "17504               Melkesjokolade,Harringtons,Harringtons\n",
      "17724                                 Melkesjokolade,Crest\n",
      "18161         Melkesjokolade,Melkesjokolade,Melkesjokolade\n",
      "18162         Melkesjokolade,Melkesjokolade,Melkesjokolade\n",
      "18384          Melkesjokolade,Uriage,Dove Soap,Harringtons\n",
      "18430                             Melkesjokolade,Coca Cola\n",
      "18643    Melkesjokolade,Havre Fras,Corn Flakes,Tine Mil...\n",
      "18721                             Melkesjokolade,Corn ahoy\n",
      "18926              Melkesjokolade,Trixie Wicker Cat Basket\n",
      "Name: product_name.y, Length: 171, dtype: object\n"
     ]
    }
   ],
   "source": [
    "#filtering the dataset for a 'Customer'\n",
    "dataset=fulldata.loc[fulldata['customer_id'] == 100001]\n",
    "dataset= dataset['product_name.y']\n",
    "print(dataset)"
   ]
  },
  {
   "cell_type": "code",
   "execution_count": 6,
   "metadata": {},
   "outputs": [
    {
     "name": "stdout",
     "output_type": "stream",
     "text": [
      "[['Melkesjokolade'], ['Melkesjokolade'], ['Melkesjokolade', 'Melkesjokolade'], ['Melkesjokolade'], ['Melkesjokolade', 'Havre Fras', 'Dove Soap'], ['Melkesjokolade', 'Tine Milk'], ['Melkesjokolade'], ['Melkesjokolade', 'Trixie Wicker Cat Basket'], ['Melkesjokolade', 'Melkesjokolade', 'Crest', 'Harringtons'], ['Melkesjokolade', 'Tine Milk', 'Uriage', 'Dove Soap', 'Dove Soap', 'Crest', 'Harringtons'], ['Melkesjokolade'], ['Melkesjokolade', 'Tine Milk', 'Tine Milk', 'Tine Milk', 'Crest'], ['Melkesjokolade', 'Sine Moistur'], ['Melkesjokolade', 'Uriage'], ['Melkesjokolade', 'Fiske Boller', 'Tine Milk', 'Crest', 'Harringtons'], ['Melkesjokolade', 'Tine Milk', 'Dove Soap'], ['Melkesjokolade', 'Melkesjokolade', 'Crest', 'Coca Cola'], ['Melkesjokolade', 'Corn Flakes', 'Tine Milk', 'Uriage', 'Trixie Wicker Cat Basket'], ['Melkesjokolade', 'Havre Fras'], ['Melkesjokolade', 'Sine Moistur'], ['Melkesjokolade'], ['Melkesjokolade', 'Corn Flakes', 'Tine Milk'], ['Melkesjokolade', 'Fiske Boller'], ['Melkesjokolade', 'Harringtons'], ['Melkesjokolade', 'Harringtons'], ['Melkesjokolade', 'Tine Milk'], ['Melkesjokolade', 'Tine Milk', 'Harringtons'], ['Melkesjokolade', 'Melkesjokolade', 'Corn Flakes', 'Fiske Boller', 'Harringtons'], ['Melkesjokolade', 'Melkesjokolade', 'Corn Flakes', 'Fiske Boller', 'Harringtons'], ['Melkesjokolade', 'Corn Flakes', 'Tine Milk'], ['Melkesjokolade', 'Corn Flakes', 'Sine Moistur', 'Crest', 'Trixie Wicker Cat Basket'], ['Melkesjokolade', 'Corn Flakes', 'Uriage'], ['Melkesjokolade', 'Melkesjokolade', 'Corn Flakes', 'Fiske Boller', 'Crest', 'Trixie Wicker Cat Basket'], ['Melkesjokolade', 'Corn ahoy', 'Tine Milk', 'Sine Moistur'], ['Melkesjokolade', 'Corn ahoy', 'Trixie Wicker Cat Basket'], ['Melkesjokolade', 'Crest'], ['Melkesjokolade', 'Crest'], ['Melkesjokolade', 'Corn ahoy', 'Crest'], ['Melkesjokolade', 'Melkesjokolade', 'Crest'], ['Melkesjokolade', 'Melkesjokolade', 'Crest'], ['Melkesjokolade', 'Corn ahoy'], ['Melkesjokolade'], ['Melkesjokolade', 'Melkesjokolade', 'Crest'], ['Melkesjokolade'], ['Melkesjokolade', 'Harringtons'], ['Melkesjokolade'], ['Melkesjokolade', 'Dove Soap', 'Harringtons'], ['Melkesjokolade'], ['Melkesjokolade', 'Trixie Wicker Cat Basket'], ['Melkesjokolade', 'Fiske Boller', 'Coca Cola', 'Coca Cola'], ['Melkesjokolade', 'Sine Moistur'], ['Melkesjokolade', 'Uriage'], ['Melkesjokolade'], ['Melkesjokolade', 'Corn Flakes'], ['Melkesjokolade', 'Melkesjokolade', 'Melkesjokolade', 'Tine Milk', 'Dove Soap', 'Harringtons'], ['Melkesjokolade', 'Corn Flakes'], ['Melkesjokolade', 'Crest'], ['Melkesjokolade', 'Crest'], ['Melkesjokolade', 'Tine Milk'], ['Melkesjokolade', 'Corn ahoy'], ['Melkesjokolade'], ['Melkesjokolade', 'Tine Milk'], ['Melkesjokolade', 'Havre Fras'], ['Melkesjokolade', 'Dove Soap', 'Crest', 'Harringtons', 'Trixie Wicker Cat Basket'], ['Melkesjokolade', 'Corn ahoy', 'Fiske Boller', 'Sine Moistur'], ['Melkesjokolade', 'Crest'], ['Melkesjokolade', 'Havre Fras', 'Fiske Boller', 'Tine Milk'], ['Melkesjokolade', 'Sine Moistur', 'Dove Soap', 'Coca Cola'], ['Melkesjokolade', 'Tine Milk', 'Uriage'], ['Melkesjokolade', 'Sine Moistur', 'Coca Cola'], ['Melkesjokolade', 'Corn Flakes', 'Crest', 'Crest', 'Harringtons', 'Trixie Wicker Cat Basket'], ['Melkesjokolade', 'Corn Flakes', 'Crest'], ['Melkesjokolade', 'Uriage'], ['Melkesjokolade', 'Crest', 'Coca Cola'], ['Melkesjokolade', 'Tine Milk'], ['Melkesjokolade', 'Tine Milk', 'Tine Milk'], ['Melkesjokolade', 'Uriage', 'Harringtons', 'Trixie Wicker Cat Basket'], ['Melkesjokolade', 'Melkesjokolade', 'Uriage'], ['Melkesjokolade', 'Uriage', 'Crest', 'Harringtons', 'Trixie Wicker Cat Basket'], ['Melkesjokolade', 'Corn Flakes', 'Tine Milk', 'Sine Moistur', 'Crest'], ['Melkesjokolade', 'Corn ahoy', 'Havre Fras', 'Uriage', 'Coca Cola'], ['Melkesjokolade', 'Dove Soap', 'Trixie Wicker Cat Basket', 'Coca Cola'], ['Melkesjokolade', 'Melkesjokolade', 'Fiske Boller', 'Dove Soap', 'Crest', 'Crest'], ['Melkesjokolade', 'Havre Fras', 'Harringtons'], ['Melkesjokolade', 'Corn ahoy', 'Tine Milk', 'Uriage'], ['Melkesjokolade', 'Uriage'], ['Melkesjokolade', 'Havre Fras', 'Coca Cola'], ['Melkesjokolade'], ['Melkesjokolade', 'Melkesjokolade', 'Corn ahoy', 'Fiske Boller', 'Dove Soap', 'Crest'], ['Melkesjokolade', 'Melkesjokolade', 'Corn ahoy', 'Fiske Boller', 'Dove Soap', 'Crest'], ['Melkesjokolade'], ['Melkesjokolade', 'Dove Soap'], ['Melkesjokolade', 'Corn ahoy', 'Dove Soap'], ['Melkesjokolade', 'Melkesjokolade', 'Fiske Boller'], ['Melkesjokolade'], ['Melkesjokolade', 'Corn Flakes', 'Crest'], ['Melkesjokolade', 'Coca Cola'], ['Melkesjokolade', 'Harringtons'], ['Melkesjokolade', 'Corn Flakes'], ['Melkesjokolade', 'Tine Milk'], ['Melkesjokolade', 'Melkesjokolade', 'Corn Flakes'], ['Melkesjokolade', 'Tine Milk'], ['Melkesjokolade', 'Corn Flakes', 'Fiske Boller'], ['Melkesjokolade', 'Sine Moistur', 'Trixie Wicker Cat Basket', 'Coca Cola'], ['Melkesjokolade', 'Havre Fras', 'Sine Moistur', 'Coca Cola'], ['Melkesjokolade', 'Trixie Wicker Cat Basket'], ['Melkesjokolade', 'Harringtons', 'Trixie Wicker Cat Basket', 'Coca Cola'], ['Melkesjokolade', 'Fiske Boller', 'Uriage', 'Trixie Wicker Cat Basket'], ['Melkesjokolade', 'Corn ahoy', 'Havre Fras'], ['Melkesjokolade', 'Dove Soap', 'Harringtons'], ['Melkesjokolade', 'Havre Fras', 'Sine Moistur', 'Uriage', 'Harringtons'], ['Melkesjokolade', 'Havre Fras'], ['Melkesjokolade', 'Trixie Wicker Cat Basket'], ['Melkesjokolade', 'Uriage', 'Crest'], ['Melkesjokolade', 'Sine Moistur'], ['Melkesjokolade', 'Melkesjokolade', 'Corn ahoy'], ['Melkesjokolade', 'Melkesjokolade', 'Corn ahoy'], ['Melkesjokolade'], ['Melkesjokolade', 'Fiske Boller', 'Tine Milk', 'Dove Soap'], ['Melkesjokolade', 'Corn Flakes', 'Fiske Boller', 'Trixie Wicker Cat Basket'], ['Melkesjokolade', 'Fiske Boller', 'Harringtons'], ['Melkesjokolade', 'Corn ahoy'], ['Melkesjokolade', 'Corn ahoy', 'Tine Milk', 'Dove Soap', 'Crest', 'Trixie Wicker Cat Basket'], ['Melkesjokolade', 'Sine Moistur'], ['Melkesjokolade', 'Corn ahoy', 'Harringtons'], ['Melkesjokolade', 'Corn ahoy', 'Havre Fras', 'Corn Flakes', 'Crest', 'Harringtons'], ['Melkesjokolade', 'Melkesjokolade', 'Sine Moistur', 'Trixie Wicker Cat Basket', 'Coca Cola'], ['Melkesjokolade', 'Uriage', 'Harringtons'], ['Melkesjokolade'], ['Melkesjokolade', 'Corn ahoy', 'Tine Milk', 'Uriage', 'Uriage'], ['Melkesjokolade', 'Corn Flakes', 'Fiske Boller', 'Tine Milk'], ['Melkesjokolade', 'Corn Flakes'], ['Melkesjokolade'], ['Melkesjokolade', 'Corn ahoy', 'Trixie Wicker Cat Basket'], ['Melkesjokolade'], ['Melkesjokolade', 'Melkesjokolade', 'Corn Flakes', 'Tine Milk', 'Tine Milk', 'Sine Moistur', 'Uriage', 'Harringtons'], ['Melkesjokolade', 'Corn ahoy', 'Havre Fras', 'Corn Flakes', 'Tine Milk'], ['Melkesjokolade', 'Crest'], ['Melkesjokolade', 'Uriage'], ['Melkesjokolade', 'Corn ahoy', 'Trixie Wicker Cat Basket'], ['Melkesjokolade', 'Crest'], ['Melkesjokolade', 'Havre Fras', 'Trixie Wicker Cat Basket'], ['Melkesjokolade'], ['Melkesjokolade', 'Corn ahoy', 'Tine Milk', 'Trixie Wicker Cat Basket', 'Coca Cola'], ['Melkesjokolade', 'Tine Milk'], ['Melkesjokolade', 'Fiske Boller'], ['Melkesjokolade', 'Melkesjokolade', 'Tine Milk'], ['Melkesjokolade', 'Corn ahoy', 'Havre Fras', 'Tine Milk', 'Dove Soap'], ['Melkesjokolade', 'Melkesjokolade'], ['Melkesjokolade', 'Crest'], ['Melkesjokolade', 'Melkesjokolade'], ['Melkesjokolade'], ['Melkesjokolade', 'Corn Flakes'], ['Melkesjokolade', 'Corn ahoy', 'Havre Fras', 'Corn Flakes'], ['Melkesjokolade', 'Crest', 'Crest', 'Coca Cola'], ['Melkesjokolade'], ['Melkesjokolade', 'Trixie Wicker Cat Basket'], ['Melkesjokolade', 'Fiske Boller', 'Fiske Boller', 'Sine Moistur', 'Uriage', 'Crest', 'Trixie Wicker Cat Basket'], ['Melkesjokolade', 'Melkesjokolade', 'Tine Milk', 'Harringtons'], ['Melkesjokolade', 'Melkesjokolade', 'Tine Milk', 'Harringtons'], ['Melkesjokolade', 'Corn ahoy', 'Crest', 'Harringtons', 'Trixie Wicker Cat Basket'], ['Melkesjokolade', 'Fiske Boller'], ['Melkesjokolade', 'Harringtons', 'Harringtons'], ['Melkesjokolade', 'Crest'], ['Melkesjokolade', 'Melkesjokolade', 'Melkesjokolade'], ['Melkesjokolade', 'Melkesjokolade', 'Melkesjokolade'], ['Melkesjokolade', 'Uriage', 'Dove Soap', 'Harringtons'], ['Melkesjokolade', 'Coca Cola'], ['Melkesjokolade', 'Havre Fras', 'Corn Flakes', 'Tine Milk', 'Coca Cola'], ['Melkesjokolade', 'Corn ahoy'], ['Melkesjokolade', 'Trixie Wicker Cat Basket']]\n"
     ]
    }
   ],
   "source": [
    "#convert List of transactions List of lists\n",
    "def extractAsLists(lst): \n",
    "    res = [] \n",
    "    for el in lst: \n",
    "        sub = el.split(',') \n",
    "        res.append(sub) \n",
    "      \n",
    "    return(res) \n",
    "                 \n",
    "print(extractAsLists(dataset)) \n",
    "dataset = extractAsLists(dataset)\n",
    "\n",
    "te_ary = te.fit(dataset).transform(dataset)\n",
    "df = pd.DataFrame(te_ary, columns=te.columns_)"
   ]
  },
  {
   "cell_type": "code",
   "execution_count": 7,
   "metadata": {},
   "outputs": [
    {
     "name": "stdout",
     "output_type": "stream",
     "text": [
      "     support                                    itemsets  length\n",
      "0   0.152047                               (Corn Flakes)       1\n",
      "1   0.157895                                 (Corn ahoy)       1\n",
      "2   0.210526                                     (Crest)       1\n",
      "3   0.105263                                 (Dove Soap)       1\n",
      "4   0.122807                              (Fiske Boller)       1\n",
      "5   0.175439                               (Harringtons)       1\n",
      "6   1.000000                            (Melkesjokolade)       1\n",
      "7   0.204678                                 (Tine Milk)       1\n",
      "8   0.157895                  (Trixie Wicker Cat Basket)       1\n",
      "9   0.128655                                    (Uriage)       1\n",
      "10  0.152047               (Melkesjokolade, Corn Flakes)       2\n",
      "11  0.157895                 (Melkesjokolade, Corn ahoy)       2\n",
      "12  0.210526                     (Melkesjokolade, Crest)       2\n",
      "13  0.105263                 (Melkesjokolade, Dove Soap)       2\n",
      "14  0.122807              (Melkesjokolade, Fiske Boller)       2\n",
      "15  0.175439               (Melkesjokolade, Harringtons)       2\n",
      "16  0.204678                 (Melkesjokolade, Tine Milk)       2\n",
      "17  0.157895  (Melkesjokolade, Trixie Wicker Cat Basket)       2\n",
      "18  0.128655                    (Melkesjokolade, Uriage)       2\n"
     ]
    }
   ],
   "source": [
    "# df.to_csv(dir_path+'AprioriDatasampledata.csv',encoding='utf-8',index=False)\n",
    "from mlxtend.frequent_patterns import apriori\n",
    "\n",
    "frequent_itemsets = apriori(df, min_support=0.1, use_colnames=True)\n",
    "frequent_itemsets['length'] = frequent_itemsets['itemsets'].apply(lambda x: len(x))\n",
    "print(frequent_itemsets) \n",
    "\n",
    "\n",
    "# result = frequent_itemsets[ (frequent_itemsets['length'] == 3) &\n",
    "#                    (frequent_itemsets['support'] >= 0.1) ]\n",
    "# print(frequent_itemsets)\n",
    "# result.to_csv(dir_path+'Aprioriresult.csv',encoding='utf-8',index=False)"
   ]
  },
  {
   "cell_type": "code",
   "execution_count": 8,
   "metadata": {},
   "outputs": [
    {
     "name": "stdout",
     "output_type": "stream",
     "text": [
      "     support                                    itemsets  length\n",
      "0   0.152047                               (Corn Flakes)       1\n",
      "1   0.157895                                 (Corn ahoy)       1\n",
      "2   0.210526                                     (Crest)       1\n",
      "3   0.105263                                 (Dove Soap)       1\n",
      "4   0.122807                              (Fiske Boller)       1\n",
      "5   0.175439                               (Harringtons)       1\n",
      "6   1.000000                            (Melkesjokolade)       1\n",
      "7   0.204678                                 (Tine Milk)       1\n",
      "8   0.157895                  (Trixie Wicker Cat Basket)       1\n",
      "9   0.128655                                    (Uriage)       1\n",
      "10  0.152047               (Melkesjokolade, Corn Flakes)       2\n",
      "11  0.157895                 (Melkesjokolade, Corn ahoy)       2\n",
      "12  0.210526                     (Melkesjokolade, Crest)       2\n",
      "13  0.105263                 (Melkesjokolade, Dove Soap)       2\n",
      "14  0.122807              (Melkesjokolade, Fiske Boller)       2\n",
      "15  0.175439               (Melkesjokolade, Harringtons)       2\n",
      "16  0.204678                 (Melkesjokolade, Tine Milk)       2\n",
      "17  0.157895  (Melkesjokolade, Trixie Wicker Cat Basket)       2\n",
      "18  0.128655                    (Melkesjokolade, Uriage)       2\n"
     ]
    }
   ],
   "source": [
    "result = frequent_itemsets[ (frequent_itemsets['length'] == 3) &\n",
    "                   (frequent_itemsets['support'] >= 0.1) ]\n",
    "print(frequent_itemsets)\n",
    "result.to_csv(dir_path+'Aprioriresult.csv',encoding='utf-8',index=False)"
   ]
  },
  {
   "cell_type": "code",
   "execution_count": null,
   "metadata": {},
   "outputs": [],
   "source": []
  }
 ],
 "metadata": {
  "kernelspec": {
   "display_name": "Python 3",
   "language": "python",
   "name": "python3"
  },
  "language_info": {
   "codemirror_mode": {
    "name": "ipython",
    "version": 3
   },
   "file_extension": ".py",
   "mimetype": "text/x-python",
   "name": "python",
   "nbconvert_exporter": "python",
   "pygments_lexer": "ipython3",
   "version": "3.7.3"
  }
 },
 "nbformat": 4,
 "nbformat_minor": 2
}
